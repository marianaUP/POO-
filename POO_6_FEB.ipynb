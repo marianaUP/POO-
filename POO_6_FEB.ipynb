{
  "nbformat": 4,
  "nbformat_minor": 0,
  "metadata": {
    "colab": {
      "provenance": []
    },
    "kernelspec": {
      "name": "python3",
      "display_name": "Python 3"
    },
    "language_info": {
      "name": "python"
    }
  },
  "cells": [
    {
      "cell_type": "code",
      "execution_count": null,
      "metadata": {
        "id": "-HpzzF6Yv3In"
      },
      "outputs": [],
      "source": []
    },
    {
      "cell_type": "markdown",
      "source": [
        "# ARREGLOS Y CLASES\n",
        "\n",
        "## Matrices\n",
        "\n",
        "\n",
        "Es un arreglo que tiene m x n elementos\n",
        "\n",
        "A = \\begin{bmatrix}\n",
        "a_{11} & a_{12} & \\dots & a_{1n} \\\\\n",
        "a_{21} & a_{22} & \\dots & a_{2n} \\\\\n",
        "\\vdots & \\vdots & \\ddots & \\vdots \\\\\n",
        "a_{m1} & a_{m2} & \\dots & a_{mn}\n",
        "\\end{bmatrix}"
      ],
      "metadata": {
        "id": "c-EwRVypwBgh"
      }
    },
    {
      "cell_type": "code",
      "source": [
        "A= [[1,2,3], [4,5,6], [7,8,9]]\n",
        "print (A)\n",
        "\n",
        "#vamos a crear otra lista\n",
        "B= [[21, 34, 40], [71,17,77], [78,81,28]]\n",
        "print (A+B)\n",
        "\n",
        "print (2*A)\n",
        "\n",
        "A[0][1]"
      ],
      "metadata": {
        "colab": {
          "base_uri": "https://localhost:8080/"
        },
        "id": "c0UPm2b2xjND",
        "outputId": "0a8e8b21-a278-4f61-db21-d7f8e6c5bdbb"
      },
      "execution_count": 6,
      "outputs": [
        {
          "output_type": "stream",
          "name": "stdout",
          "text": [
            "[[1, 2, 3], [4, 5, 6], [7, 8, 9]]\n",
            "[[1, 2, 3], [4, 5, 6], [7, 8, 9], [21, 34, 40], [71, 17, 77], [78, 81, 28]]\n",
            "[[1, 2, 3], [4, 5, 6], [7, 8, 9], [1, 2, 3], [4, 5, 6], [7, 8, 9]]\n"
          ]
        },
        {
          "output_type": "execute_result",
          "data": {
            "text/plain": [
              "2"
            ]
          },
          "metadata": {},
          "execution_count": 6
        }
      ]
    },
    {
      "cell_type": "code",
      "source": [
        "#vectores y listas\n",
        "\n",
        "L = A[0]\n",
        "M = B[0]\n",
        "\n",
        "print (L)\n",
        "print (M)"
      ],
      "metadata": {
        "colab": {
          "base_uri": "https://localhost:8080/"
        },
        "id": "Gcafsc3by0Pf",
        "outputId": "386c424d-5778-4b98-cd4d-e658ed74635d"
      },
      "execution_count": 9,
      "outputs": [
        {
          "output_type": "stream",
          "name": "stdout",
          "text": [
            "[1, 2, 3]\n",
            "[21, 34, 40]\n"
          ]
        }
      ]
    },
    {
      "cell_type": "code",
      "source": [
        "a = L[0]\n",
        "b = M[0]\n",
        "\n",
        "print (a+b)\n",
        "\n",
        "a==1"
      ],
      "metadata": {
        "colab": {
          "base_uri": "https://localhost:8080/"
        },
        "id": "R7c2U6Nf3yTO",
        "outputId": "04673713-b295-42b4-89ad-494903658714"
      },
      "execution_count": 11,
      "outputs": [
        {
          "output_type": "stream",
          "name": "stdout",
          "text": [
            "22\n"
          ]
        },
        {
          "output_type": "execute_result",
          "data": {
            "text/plain": [
              "True"
            ]
          },
          "metadata": {},
          "execution_count": 11
        }
      ]
    },
    {
      "cell_type": "code",
      "source": [
        "#suma de vectores\n",
        "\n",
        "len (L)== len (M)\n",
        "\n",
        "SUMA =[L[0] + M[0],L[1]+M[1], L[2]+M[2]]\n",
        "\n",
        "print (SUMA)\n",
        "\n",
        "\n",
        "SUMA = [L[i]+ M[i] for i in range (3)]\n",
        "SUMA"
      ],
      "metadata": {
        "colab": {
          "base_uri": "https://localhost:8080/"
        },
        "id": "xxiIR9Tz4DZ1",
        "outputId": "0bd66ab8-85f2-41f2-c332-75b4680e14f2"
      },
      "execution_count": 13,
      "outputs": [
        {
          "output_type": "stream",
          "name": "stdout",
          "text": [
            "[22, 36, 43]\n"
          ]
        },
        {
          "output_type": "execute_result",
          "data": {
            "text/plain": [
              "[22, 36, 43]"
            ]
          },
          "metadata": {},
          "execution_count": 13
        }
      ]
    },
    {
      "cell_type": "markdown",
      "source": [
        "### CRACIÓN DE FUNCIONES GLOBALES\n",
        "la funcion para crear funciones es `def` que se cierra con un debug ( `print` o `return`)\n",
        "\n",
        "---\n"
      ],
      "metadata": {
        "id": "8bAN9EsiFmOM"
      }
    },
    {
      "cell_type": "code",
      "source": [
        "def Hola():\n",
        "  print(\"hola me llamo mariana\")\n",
        "\n"
      ],
      "metadata": {
        "id": "f6fNqe48HLLJ"
      },
      "execution_count": 17,
      "outputs": []
    },
    {
      "cell_type": "code",
      "source": [
        "Hola()"
      ],
      "metadata": {
        "colab": {
          "base_uri": "https://localhost:8080/"
        },
        "id": "iBkNVo1VH2ul",
        "outputId": "d047c8c0-e8f2-474e-e704-454e2c81b320"
      },
      "execution_count": 18,
      "outputs": [
        {
          "output_type": "stream",
          "name": "stdout",
          "text": [
            "hola me llamo mariana\n"
          ]
        }
      ]
    },
    {
      "cell_type": "code",
      "source": [
        "def saludar(s,n):\n",
        "  print (f\"hola me llamo {s} y tengo {n} años\")\n"
      ],
      "metadata": {
        "id": "v1MLTPlpH5rV"
      },
      "execution_count": 19,
      "outputs": []
    },
    {
      "cell_type": "code",
      "source": [
        "saludar (\"mariana\", 18)"
      ],
      "metadata": {
        "colab": {
          "base_uri": "https://localhost:8080/"
        },
        "id": "j7DFvVj0IOGc",
        "outputId": "2ad29989-fbc7-4321-a932-9d4f7dbd54fd"
      },
      "execution_count": 22,
      "outputs": [
        {
          "output_type": "stream",
          "name": "stdout",
          "text": [
            "hola me llamo mariana y tengo 18 años\n"
          ]
        }
      ]
    },
    {
      "cell_type": "code",
      "source": [
        "\n",
        "I = [i for i in range (10)]\n",
        "\n",
        "def par(x):\n",
        "  for x in range(len(I)):\n",
        "    if x % 2 == 0:\n",
        "      print(f\"{x} es par\")\n",
        "    else:\n",
        "      print(f\"{x} es impar\")"
      ],
      "metadata": {
        "id": "Q4F2-iKrI32X"
      },
      "execution_count": 44,
      "outputs": []
    },
    {
      "cell_type": "code",
      "source": [
        "par(1)"
      ],
      "metadata": {
        "colab": {
          "base_uri": "https://localhost:8080/"
        },
        "id": "ELT6U8XWJ9Cj",
        "outputId": "ad37f05b-5e70-49c5-9b36-27fe7da60c16"
      },
      "execution_count": 52,
      "outputs": [
        {
          "output_type": "stream",
          "name": "stdout",
          "text": [
            "0 es par\n",
            "1 es impar\n",
            "2 es par\n",
            "3 es impar\n",
            "4 es par\n",
            "5 es impar\n",
            "6 es par\n",
            "7 es impar\n",
            "8 es par\n",
            "9 es impar\n"
          ]
        }
      ]
    },
    {
      "cell_type": "code",
      "source": [
        "def suma_vectorial (L,M):\n",
        "  x= [L[i]+M[i] for i in range (len(L))]\n",
        "  return x"
      ],
      "metadata": {
        "id": "aGhaBABVLz3l"
      },
      "execution_count": 54,
      "outputs": []
    },
    {
      "cell_type": "code",
      "source": [
        "L = [1,2,3]\n",
        "M = [21,34,40]\n",
        "\n",
        "suma_vectorial(L,M)\n"
      ],
      "metadata": {
        "colab": {
          "base_uri": "https://localhost:8080/"
        },
        "id": "5GHcT9fqNZu2",
        "outputId": "b7461dee-ec3f-4b1e-c254-79eee6e61d4a"
      },
      "execution_count": 56,
      "outputs": [
        {
          "output_type": "execute_result",
          "data": {
            "text/plain": [
              "[22, 36, 43]"
            ]
          },
          "metadata": {},
          "execution_count": 56
        }
      ]
    },
    {
      "cell_type": "markdown",
      "source": [
        "MODULOS O LIBREARIAS"
      ],
      "metadata": {
        "id": "u2-zPwlMOHb_"
      }
    },
    {
      "cell_type": "code",
      "source": [
        "import math\n",
        "from math import sqrt, pi"
      ],
      "metadata": {
        "id": "eq0Z_i_HOKzm"
      },
      "execution_count": 58,
      "outputs": []
    },
    {
      "cell_type": "code",
      "source": [
        "sqrt(68)"
      ],
      "metadata": {
        "colab": {
          "base_uri": "https://localhost:8080/"
        },
        "id": "W5C-yyJ4OOgK",
        "outputId": "7d7fff4f-45f8-42b6-b099-7c6a3afb3904"
      },
      "execution_count": 59,
      "outputs": [
        {
          "output_type": "execute_result",
          "data": {
            "text/plain": [
              "8.246211251235321"
            ]
          },
          "metadata": {},
          "execution_count": 59
        }
      ]
    },
    {
      "cell_type": "code",
      "source": [
        "pi"
      ],
      "metadata": {
        "colab": {
          "base_uri": "https://localhost:8080/"
        },
        "id": "Gqrp92WbOSON",
        "outputId": "fa6c75bb-31da-4379-cf9f-06883faab4c6"
      },
      "execution_count": 60,
      "outputs": [
        {
          "output_type": "execute_result",
          "data": {
            "text/plain": [
              "3.141592653589793"
            ]
          },
          "metadata": {},
          "execution_count": 60
        }
      ]
    },
    {
      "cell_type": "markdown",
      "source": [
        "###EL MODULO NUMPY\n",
        "\n",
        "la funcion `array`\n",
        "\n"
      ],
      "metadata": {
        "id": "7B3v44zYPXbO"
      }
    },
    {
      "cell_type": "code",
      "source": [
        "import numpy as np\n",
        "\n",
        "L_vector =np.array(L)\n",
        "M_vector =np.array(M)\n",
        "\n",
        "L_vector + M_vector"
      ],
      "metadata": {
        "colab": {
          "base_uri": "https://localhost:8080/"
        },
        "id": "XLoIWVltPhri",
        "outputId": "25f5f97d-c7dc-4148-f095-af3ac003f140"
      },
      "execution_count": 61,
      "outputs": [
        {
          "output_type": "execute_result",
          "data": {
            "text/plain": [
              "array([22, 36, 43])"
            ]
          },
          "metadata": {},
          "execution_count": 61
        }
      ]
    },
    {
      "cell_type": "code",
      "source": [
        "C= [9,1,1,1,2,1,1,18,1]\n",
        "A = [10,2,2,2,3,2,2,19,2]\n",
        "\n",
        "C_matriz = np.array(C).reshape(3,3)\n",
        "A_matriz = np.array(A).reshape(3,3)\n",
        "\n",
        "print(C_matriz)\n",
        "print(A_matriz)"
      ],
      "metadata": {
        "colab": {
          "base_uri": "https://localhost:8080/"
        },
        "id": "iloT_6zIQNQl",
        "outputId": "4044f444-fe97-4e0e-e0b5-f42201caa7e6"
      },
      "execution_count": 69,
      "outputs": [
        {
          "output_type": "stream",
          "name": "stdout",
          "text": [
            "[[ 9  1  1]\n",
            " [ 1  2  1]\n",
            " [ 1 18  1]]\n",
            "[[10  2  2]\n",
            " [ 2  3  2]\n",
            " [ 2 19  2]]\n"
          ]
        }
      ]
    },
    {
      "cell_type": "code",
      "source": [
        "C_matriz @ A_matriz"
      ],
      "metadata": {
        "colab": {
          "base_uri": "https://localhost:8080/"
        },
        "id": "EJD9DXDyRHrv",
        "outputId": "1ec5400d-68ed-487a-f3b7-f85b80b7a189"
      },
      "execution_count": 70,
      "outputs": [
        {
          "output_type": "execute_result",
          "data": {
            "text/plain": [
              "array([[94, 40, 22],\n",
              "       [16, 27,  8],\n",
              "       [48, 75, 40]])"
            ]
          },
          "metadata": {},
          "execution_count": 70
        }
      ]
    }
  ]
}