{
  "nbformat": 4,
  "nbformat_minor": 0,
  "metadata": {
    "colab": {
      "provenance": []
    },
    "kernelspec": {
      "name": "python3",
      "display_name": "Python 3"
    },
    "language_info": {
      "name": "python"
    }
  },
  "cells": [
    {
      "cell_type": "code",
      "execution_count": null,
      "metadata": {
        "id": "3i7lXXhfbsTI"
      },
      "outputs": [],
      "source": []
    },
    {
      "cell_type": "markdown",
      "source": [],
      "metadata": {
        "id": "A77SEAvXsHkx"
      }
    },
    {
      "cell_type": "markdown",
      "source": [
        "#conjuntos y listas\n",
        "\n",
        "- conjuntos finitos:\n",
        "$$\\{o_1, o_2,  \\dots, o_n\\}$$\n",
        "\n",
        "- listas finitas:\n",
        "$$[l_1, l_2,  \\dots, l_n]$$\n",
        ".\n",
        ".\n",
        "\n",
        "\n",
        "En python, existe la función `range(a,b)` donde $a,b\\geq 0$\n"
      ],
      "metadata": {
        "id": "f4MjXqvFcw1m"
      }
    },
    {
      "cell_type": "code",
      "source": [
        "range(10)"
      ],
      "metadata": {
        "colab": {
          "base_uri": "https://localhost:8080/"
        },
        "id": "ogw8qKmXgKHP",
        "outputId": "dc59a46b-6697-482e-f2cb-eaa7955c7a68"
      },
      "execution_count": null,
      "outputs": [
        {
          "output_type": "execute_result",
          "data": {
            "text/plain": [
              "range(0, 10)"
            ]
          },
          "metadata": {},
          "execution_count": 1
        }
      ]
    },
    {
      "cell_type": "markdown",
      "source": [
        "¿cómo puedo ver lso elementos de este generador de índices?"
      ],
      "metadata": {
        "id": "-3uQWZ43gOs3"
      }
    },
    {
      "cell_type": "code",
      "source": [
        "for i in range(10): print (i)"
      ],
      "metadata": {
        "colab": {
          "base_uri": "https://localhost:8080/"
        },
        "id": "qdvtrZfWgYSa",
        "outputId": "4d355f70-2ef5-4346-b0ad-00eb886cda0f"
      },
      "execution_count": null,
      "outputs": [
        {
          "output_type": "stream",
          "name": "stdout",
          "text": [
            "0\n",
            "1\n",
            "2\n",
            "3\n",
            "4\n",
            "5\n",
            "6\n",
            "7\n",
            "8\n",
            "9\n"
          ]
        }
      ]
    },
    {
      "cell_type": "code",
      "source": [
        "#vamos a construir dos conjuntos\n",
        "\n",
        "Pares={i for i in range (21) if i%2==0}\n",
        "print (f\"Pares: {Pares} \")\n",
        "\n",
        "Impares={i for i in range (21) if i%2==1}\n",
        "print (f\"Impares: {Impares} \")\n"
      ],
      "metadata": {
        "colab": {
          "base_uri": "https://localhost:8080/"
        },
        "id": "XuBGIRp1hs7W",
        "outputId": "e0e26bb9-41c2-49fd-ec7a-60b809fe2914"
      },
      "execution_count": null,
      "outputs": [
        {
          "output_type": "stream",
          "name": "stdout",
          "text": [
            "Pares: {0, 2, 4, 6, 8, 10, 12, 14, 16, 18, 20} \n",
            "Impares: {1, 3, 5, 7, 9, 11, 13, 15, 17, 19} \n"
          ]
        }
      ]
    },
    {
      "cell_type": "code",
      "source": [
        "C= {17,7,27,19,77,56,8,12,10,13,20,16}\n",
        "C, type (C)"
      ],
      "metadata": {
        "colab": {
          "base_uri": "https://localhost:8080/"
        },
        "id": "4jMSIx8tjL3h",
        "outputId": "556af3ad-1b74-4811-8a85-b73cb70aeaba"
      },
      "execution_count": null,
      "outputs": [
        {
          "output_type": "execute_result",
          "data": {
            "text/plain": [
              "({7, 8, 10, 12, 13, 16, 17, 19, 20, 27, 56, 77}, set)"
            ]
          },
          "metadata": {},
          "execution_count": 6
        }
      ]
    },
    {
      "cell_type": "markdown",
      "source": [
        "**LOS OBJETOS EN PYTHON TIENEN TRIBUTOS**"
      ],
      "metadata": {
        "id": "p3OmtIf1k51y"
      }
    },
    {
      "cell_type": "code",
      "source": [
        "Pares.intersection(Impares)"
      ],
      "metadata": {
        "colab": {
          "base_uri": "https://localhost:8080/"
        },
        "id": "QSHYrZ-ClBKt",
        "outputId": "34e57409-1daf-4cc3-ce2f-052e28fab24f"
      },
      "execution_count": null,
      "outputs": [
        {
          "output_type": "execute_result",
          "data": {
            "text/plain": [
              "set()"
            ]
          },
          "metadata": {},
          "execution_count": 7
        }
      ]
    },
    {
      "cell_type": "code",
      "source": [
        "Pares.union(Impares)"
      ],
      "metadata": {
        "colab": {
          "base_uri": "https://localhost:8080/"
        },
        "id": "Kza_rwV6lICX",
        "outputId": "792e1631-f7a4-4a27-b8db-70ed89959714"
      },
      "execution_count": null,
      "outputs": [
        {
          "output_type": "execute_result",
          "data": {
            "text/plain": [
              "{0, 1, 2, 3, 4, 5, 6, 7, 8, 9, 10, 11, 12, 13, 14, 15, 16, 17, 18, 19, 20}"
            ]
          },
          "metadata": {},
          "execution_count": 8
        }
      ]
    },
    {
      "cell_type": "code",
      "source": [
        "Impares.difference(Pares)"
      ],
      "metadata": {
        "colab": {
          "base_uri": "https://localhost:8080/"
        },
        "id": "0jjvaUnMlORm",
        "outputId": "2f2da613-3f27-4bfc-cf66-c606b04842f7"
      },
      "execution_count": null,
      "outputs": [
        {
          "output_type": "execute_result",
          "data": {
            "text/plain": [
              "{1, 3, 5, 7, 9, 11, 13, 15, 17, 19}"
            ]
          },
          "metadata": {},
          "execution_count": 9
        }
      ]
    },
    {
      "cell_type": "code",
      "source": [
        "Impares.difference(C) #quitando los elementos de C a los Impares"
      ],
      "metadata": {
        "colab": {
          "base_uri": "https://localhost:8080/"
        },
        "id": "VWICysaIl4ED",
        "outputId": "c5085b8a-c5cb-48f3-81fd-28d14cfd70d3"
      },
      "execution_count": null,
      "outputs": [
        {
          "output_type": "execute_result",
          "data": {
            "text/plain": [
              "{1, 3, 5, 9, 11, 15}"
            ]
          },
          "metadata": {},
          "execution_count": 10
        }
      ]
    },
    {
      "cell_type": "markdown",
      "source": [
        "**LISTA**"
      ],
      "metadata": {
        "id": "IOPAZe3el-9j"
      }
    },
    {
      "cell_type": "code",
      "source": [
        "Lista_pares= list(Pares)\n",
        "Lista_pares"
      ],
      "metadata": {
        "colab": {
          "base_uri": "https://localhost:8080/"
        },
        "id": "hFnxVrNgmBYA",
        "outputId": "532b4d6e-1f28-4ef0-e97e-27e809b6ff17"
      },
      "execution_count": null,
      "outputs": [
        {
          "output_type": "execute_result",
          "data": {
            "text/plain": [
              "[0, 2, 4, 6, 8, 10, 12, 14, 16, 18, 20]"
            ]
          },
          "metadata": {},
          "execution_count": 16
        }
      ]
    },
    {
      "cell_type": "markdown",
      "source": [
        "**LISTAS E INGRESOS A LISTAS**"
      ],
      "metadata": {
        "id": "loXUXX5RsLFS"
      }
    },
    {
      "cell_type": "markdown",
      "source": [
        "range (a,b)\n",
        "\n",
        "$ a\\geq 0$\n",
        "\n",
        "$ a\\le b$\n",
        "\n"
      ],
      "metadata": {
        "id": "0DutGMoEs4-H"
      }
    },
    {
      "cell_type": "code",
      "source": [
        "range (10)\n",
        "\n",
        "type (range(10))"
      ],
      "metadata": {
        "colab": {
          "base_uri": "https://localhost:8080/"
        },
        "id": "F3eKL-m7x3UK",
        "outputId": "c57e80da-690b-4050-9c3d-0943b93b4143"
      },
      "execution_count": 9,
      "outputs": [
        {
          "output_type": "execute_result",
          "data": {
            "text/plain": [
              "range"
            ]
          },
          "metadata": {},
          "execution_count": 9
        }
      ]
    },
    {
      "cell_type": "code",
      "source": [
        "for i in range(10):\n",
        "  print (i)"
      ],
      "metadata": {
        "colab": {
          "base_uri": "https://localhost:8080/"
        },
        "id": "-_fIYrOhzA9m",
        "outputId": "9a6b5897-ed92-44f8-e820-f0ff8b297640"
      },
      "execution_count": 14,
      "outputs": [
        {
          "output_type": "stream",
          "name": "stdout",
          "text": [
            "0\n",
            "1\n",
            "2\n",
            "3\n",
            "4\n",
            "5\n",
            "6\n",
            "7\n",
            "8\n",
            "9\n"
          ]
        }
      ]
    },
    {
      "cell_type": "code",
      "source": [
        "y = \"7\"\n",
        "int (y)"
      ],
      "metadata": {
        "colab": {
          "base_uri": "https://localhost:8080/"
        },
        "id": "3JG-dnXi1phq",
        "outputId": "ce9cfcc7-81fe-45ed-ac21-53a5a5a07a26"
      },
      "execution_count": 15,
      "outputs": [
        {
          "output_type": "execute_result",
          "data": {
            "text/plain": [
              "7"
            ]
          },
          "metadata": {},
          "execution_count": 15
        }
      ]
    },
    {
      "cell_type": "markdown",
      "source": [
        "\n",
        "# Listas y arreglos\n"
      ],
      "metadata": {
        "id": "8Ant-YzC1uPw"
      }
    },
    {
      "cell_type": "code",
      "source": [
        "indices = [i for i in range (0,10)]\n",
        "indices"
      ],
      "metadata": {
        "colab": {
          "base_uri": "https://localhost:8080/"
        },
        "id": "tEqMZp0e-lrH",
        "outputId": "4b2faf62-4df5-489b-df13-02fe7c92645e"
      },
      "execution_count": 21,
      "outputs": [
        {
          "output_type": "execute_result",
          "data": {
            "text/plain": [
              "[0, 1, 2, 3, 4, 5, 6, 7, 8, 9]"
            ]
          },
          "metadata": {},
          "execution_count": 21
        }
      ]
    },
    {
      "cell_type": "code",
      "source": [
        "multiplos_3=  [i for i in range (0,21) if i%3==0]\n",
        "multiplos_3"
      ],
      "metadata": {
        "colab": {
          "base_uri": "https://localhost:8080/"
        },
        "id": "QmflRhYaA6pP",
        "outputId": "c212e123-81ba-4561-a84a-9127d6d2d618"
      },
      "execution_count": 25,
      "outputs": [
        {
          "output_type": "execute_result",
          "data": {
            "text/plain": [
              "[0, 3, 6, 9, 12, 15, 18]"
            ]
          },
          "metadata": {},
          "execution_count": 25
        }
      ]
    },
    {
      "cell_type": "code",
      "source": [
        "indices = [i for i in range (0,21)]\n",
        "print (f\"etiquetas: {indices}\")\n",
        "\n",
        "multiplos_3 =  [i for i in range (0,21) if i%3==0]\n",
        "print (f\"multiplos_3: {multiplos_3}\")"
      ],
      "metadata": {
        "colab": {
          "base_uri": "https://localhost:8080/"
        },
        "id": "od3nGd7lCzw_",
        "outputId": "55942538-e2ca-4923-852c-69643eb148bf"
      },
      "execution_count": 27,
      "outputs": [
        {
          "output_type": "stream",
          "name": "stdout",
          "text": [
            "etiquetas: [0, 1, 2, 3, 4, 5, 6, 7, 8, 9, 10, 11, 12, 13, 14, 15, 16, 17, 18, 19, 20]\n",
            "multiplos_3: [0, 3, 6, 9, 12, 15, 18]\n"
          ]
        }
      ]
    },
    {
      "cell_type": "markdown",
      "source": [
        "si $A$ un conjunto, sea $a\\in A$"
      ],
      "metadata": {
        "id": "3PvgPbFF_gBG"
      }
    },
    {
      "cell_type": "markdown",
      "source": [
        "ingresos"
      ],
      "metadata": {
        "id": "mxzbBgpdE08f"
      }
    },
    {
      "cell_type": "code",
      "source": [
        "ceci = []\n",
        "\n",
        "ceci.append(18)"
      ],
      "metadata": {
        "id": "1nnyTq-vE23Q"
      },
      "execution_count": 31,
      "outputs": []
    },
    {
      "cell_type": "code",
      "source": [
        "ceci"
      ],
      "metadata": {
        "colab": {
          "base_uri": "https://localhost:8080/"
        },
        "id": "FrvHt8TkFK1V",
        "outputId": "733f1169-0598-4873-da21-b76b19f57e62"
      },
      "execution_count": 32,
      "outputs": [
        {
          "output_type": "execute_result",
          "data": {
            "text/plain": [
              "[18]"
            ]
          },
          "metadata": {},
          "execution_count": 32
        }
      ]
    },
    {
      "cell_type": "code",
      "source": [
        "ceci.insert(1, \"violin\")"
      ],
      "metadata": {
        "id": "uUAlcNi-Gz_e"
      },
      "execution_count": 33,
      "outputs": []
    },
    {
      "cell_type": "code",
      "source": [
        "ceci"
      ],
      "metadata": {
        "colab": {
          "base_uri": "https://localhost:8080/"
        },
        "id": "83-FTwMpHUbt",
        "outputId": "687cb817-b448-473f-b27a-e3d542c7068e"
      },
      "execution_count": 38,
      "outputs": [
        {
          "output_type": "execute_result",
          "data": {
            "text/plain": [
              "[18, 'violin']"
            ]
          },
          "metadata": {},
          "execution_count": 38
        }
      ]
    },
    {
      "cell_type": "code",
      "source": [
        "ceci"
      ],
      "metadata": {
        "colab": {
          "base_uri": "https://localhost:8080/"
        },
        "id": "76ZBKrmIG6Sj",
        "outputId": "1b0b0819-993d-4990-81b3-707658828acb"
      },
      "execution_count": 37,
      "outputs": [
        {
          "output_type": "execute_result",
          "data": {
            "text/plain": [
              "[18, 'violin']"
            ]
          },
          "metadata": {},
          "execution_count": 37
        }
      ]
    },
    {
      "cell_type": "code",
      "source": [
        "ceci.append(1.62)\n",
        "ceci"
      ],
      "metadata": {
        "colab": {
          "base_uri": "https://localhost:8080/"
        },
        "id": "RWpjnD7tHclY",
        "outputId": "dd5f09c1-cdc0-42e5-a353-bb29fdd3581f"
      },
      "execution_count": 39,
      "outputs": [
        {
          "output_type": "execute_result",
          "data": {
            "text/plain": [
              "[18, 'violin', 1.62]"
            ]
          },
          "metadata": {},
          "execution_count": 39
        }
      ]
    },
    {
      "cell_type": "code",
      "source": [
        "ceci[0]"
      ],
      "metadata": {
        "colab": {
          "base_uri": "https://localhost:8080/"
        },
        "id": "-ykms1MoH0eY",
        "outputId": "e344cb14-4ef6-4360-f65d-28334c746b90"
      },
      "execution_count": 45,
      "outputs": [
        {
          "output_type": "execute_result",
          "data": {
            "text/plain": [
              "18"
            ]
          },
          "metadata": {},
          "execution_count": 45
        }
      ]
    },
    {
      "cell_type": "code",
      "source": [
        "ceci."
      ],
      "metadata": {
        "colab": {
          "base_uri": "https://localhost:8080/"
        },
        "id": "ZVg1KmCcIexa",
        "outputId": "9b3ed6c6-8764-4216-90b3-153525f4191c"
      },
      "execution_count": 46,
      "outputs": [
        {
          "output_type": "execute_result",
          "data": {
            "text/plain": [
              "<function list.pop(index=-1, /)>"
            ]
          },
          "metadata": {},
          "execution_count": 46
        }
      ]
    },
    {
      "cell_type": "code",
      "source": [
        "ceci[0:1] ##se salta dependiendo de cuantos \":\"\" le pongas"
      ],
      "metadata": {
        "colab": {
          "base_uri": "https://localhost:8080/"
        },
        "id": "2UOdlE2UMSDJ",
        "outputId": "d182241e-61e2-4403-82c5-ab7d1838840e"
      },
      "execution_count": 51,
      "outputs": [
        {
          "output_type": "execute_result",
          "data": {
            "text/plain": [
              "[18]"
            ]
          },
          "metadata": {},
          "execution_count": 51
        }
      ]
    },
    {
      "cell_type": "code",
      "source": [
        "indices[0::3]"
      ],
      "metadata": {
        "colab": {
          "base_uri": "https://localhost:8080/"
        },
        "id": "1XYi1y3KNiHX",
        "outputId": "9f7c8265-70ab-40f1-ae36-648a4e437398"
      },
      "execution_count": 52,
      "outputs": [
        {
          "output_type": "execute_result",
          "data": {
            "text/plain": [
              "[0, 3, 6, 9, 12, 15, 18]"
            ]
          },
          "metadata": {},
          "execution_count": 52
        }
      ]
    }
  ]
}