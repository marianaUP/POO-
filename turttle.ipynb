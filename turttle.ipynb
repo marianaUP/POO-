{
  "nbformat": 4,
  "nbformat_minor": 0,
  "metadata": {
    "colab": {
      "provenance": []
    },
    "kernelspec": {
      "name": "python3",
      "display_name": "Python 3"
    },
    "language_info": {
      "name": "python"
    }
  },
  "cells": [
    {
      "cell_type": "code",
      "source": [
        "class alvaro():\n",
        "  pass"
      ],
      "metadata": {
        "id": "rheBbzGuKcce"
      },
      "execution_count": 18,
      "outputs": []
    },
    {
      "cell_type": "markdown",
      "source": [
        "##CLASES Y HERENCIAS\n",
        "\n",
        "¿qué es una clase?\n",
        "\n",
        "Es como un grupo"
      ],
      "metadata": {
        "id": "KBQYyW66Kp6O"
      }
    },
    {
      "cell_type": "code",
      "source": [
        "alvaro()"
      ],
      "metadata": {
        "colab": {
          "base_uri": "https://localhost:8080/"
        },
        "id": "FnxEn5OtLDtm",
        "outputId": "e125f307-4df2-42d7-fa89-7966b05d4626"
      },
      "execution_count": 7,
      "outputs": [
        {
          "output_type": "execute_result",
          "data": {
            "text/plain": [
              "<__main__.alvaro at 0x7be91900e990>"
            ]
          },
          "metadata": {},
          "execution_count": 7
        }
      ]
    },
    {
      "cell_type": "code",
      "source": [
        "\n",
        "#vamos a crear una clase llamada alvaro\n",
        "\n",
        "class alvaro:\n",
        "  def __init__(self,edad,bff,ceci):\n",
        "    self.edad= edad\n",
        "    self.bff= bff\n",
        "    self.ceci= ceci\n",
        "\n",
        "  def saludar(self):\n",
        "    print (f\"a los {self.edad} conoci a mi amigo {self.bff}\")\n",
        "\n",
        "  def chisme(self):\n",
        "    print (f\"alvaro esta en el chisme con {self.bff} y con {self.ceci}\")\n",
        "\n",
        "\n",
        ""
      ],
      "metadata": {
        "id": "qTlrAcxJLGp2"
      },
      "execution_count": 39,
      "outputs": []
    },
    {
      "cell_type": "code",
      "source": [
        "avo = alvaro(19,\"jaume\", \"ceci\")"
      ],
      "metadata": {
        "id": "kKdj9__ySUbc"
      },
      "execution_count": 40,
      "outputs": []
    },
    {
      "cell_type": "code",
      "source": [
        "avo.edad, avo.bff, avo.ceci"
      ],
      "metadata": {
        "colab": {
          "base_uri": "https://localhost:8080/"
        },
        "id": "2WyU7DH-S_YD",
        "outputId": "a2b21363-0a68-4f5f-a3f8-5c0b3826c636"
      },
      "execution_count": 41,
      "outputs": [
        {
          "output_type": "execute_result",
          "data": {
            "text/plain": [
              "(19, 'jaume', 'ceci')"
            ]
          },
          "metadata": {},
          "execution_count": 41
        }
      ]
    },
    {
      "cell_type": "code",
      "source": [
        "avo.saludar()"
      ],
      "metadata": {
        "colab": {
          "base_uri": "https://localhost:8080/"
        },
        "id": "Ytt3XbibTSoq",
        "outputId": "8a6876ec-46dd-41f5-dbf6-6a2ec11c1d04"
      },
      "execution_count": 42,
      "outputs": [
        {
          "output_type": "stream",
          "name": "stdout",
          "text": [
            "a los 19 conoci a mi amigo jaume\n"
          ]
        }
      ]
    },
    {
      "cell_type": "code",
      "source": [
        "#que esta haciendo alvaro\n",
        "\n",
        "avo.chisme()"
      ],
      "metadata": {
        "colab": {
          "base_uri": "https://localhost:8080/"
        },
        "id": "vqr9io03UJXJ",
        "outputId": "2a7058ac-7ff5-4339-93d0-d72d5890f117"
      },
      "execution_count": 38,
      "outputs": [
        {
          "output_type": "stream",
          "name": "stdout",
          "text": [
            "alvaro esta en el chisme con jaume y con ceci\n"
          ]
        }
      ]
    }
  ]
}