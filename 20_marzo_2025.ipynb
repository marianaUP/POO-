{
  "nbformat": 4,
  "nbformat_minor": 0,
  "metadata": {
    "colab": {
      "provenance": []
    },
    "kernelspec": {
      "name": "python3",
      "display_name": "Python 3"
    },
    "language_info": {
      "name": "python"
    }
  },
  "cells": [
    {
      "cell_type": "code",
      "execution_count": null,
      "metadata": {
        "id": "79dMrJWiBuBH"
      },
      "outputs": [],
      "source": []
    },
    {
      "cell_type": "markdown",
      "source": [
        "##manejo de excepciones\n",
        "\n",
        "las funciones a usar son:"
      ],
      "metadata": {
        "id": "dug-K302B5xA"
      }
    },
    {
      "cell_type": "markdown",
      "source": [
        "\n",
        "\n",
        "```\n",
        "# try\n",
        "  bloque de condición\n",
        "  except:\n",
        "  bloque de excepciones\n",
        "```\n",
        "\n",
        "vamos a usar una funcion que se llama `assert`."
      ],
      "metadata": {
        "id": "dMU4vetFCl_Z"
      }
    },
    {
      "cell_type": "code",
      "source": [
        "def division (a,b):\n",
        "  return a/b"
      ],
      "metadata": {
        "id": "bVv7-z_SDBDN"
      },
      "execution_count": null,
      "outputs": []
    },
    {
      "cell_type": "code",
      "source": [
        "division(1,0)"
      ],
      "metadata": {
        "colab": {
          "base_uri": "https://localhost:8080/",
          "height": 211
        },
        "id": "9wtv_-NCD5Bq",
        "outputId": "4a1b1951-9098-4714-89fd-4b56210a10f1"
      },
      "execution_count": null,
      "outputs": [
        {
          "output_type": "error",
          "ename": "ZeroDivisionError",
          "evalue": "division by zero",
          "traceback": [
            "\u001b[0;31m---------------------------------------------------------------------------\u001b[0m",
            "\u001b[0;31mZeroDivisionError\u001b[0m                         Traceback (most recent call last)",
            "\u001b[0;32m<ipython-input-3-b1a4f064b07e>\u001b[0m in \u001b[0;36m<cell line: 0>\u001b[0;34m()\u001b[0m\n\u001b[0;32m----> 1\u001b[0;31m \u001b[0mdivision\u001b[0m\u001b[0;34m(\u001b[0m\u001b[0;36m1\u001b[0m\u001b[0;34m,\u001b[0m\u001b[0;36m0\u001b[0m\u001b[0;34m)\u001b[0m\u001b[0;34m\u001b[0m\u001b[0;34m\u001b[0m\u001b[0m\n\u001b[0m",
            "\u001b[0;32m<ipython-input-2-08d6d8d8885b>\u001b[0m in \u001b[0;36mdivision\u001b[0;34m(a, b)\u001b[0m\n\u001b[1;32m      1\u001b[0m \u001b[0;32mdef\u001b[0m \u001b[0mdivision\u001b[0m \u001b[0;34m(\u001b[0m\u001b[0ma\u001b[0m\u001b[0;34m,\u001b[0m\u001b[0mb\u001b[0m\u001b[0;34m)\u001b[0m\u001b[0;34m:\u001b[0m\u001b[0;34m\u001b[0m\u001b[0;34m\u001b[0m\u001b[0m\n\u001b[0;32m----> 2\u001b[0;31m   \u001b[0;32mreturn\u001b[0m \u001b[0ma\u001b[0m\u001b[0;34m/\u001b[0m\u001b[0mb\u001b[0m\u001b[0;34m\u001b[0m\u001b[0;34m\u001b[0m\u001b[0m\n\u001b[0m",
            "\u001b[0;31mZeroDivisionError\u001b[0m: division by zero"
          ]
        }
      ]
    },
    {
      "cell_type": "code",
      "source": [
        "#ejemplo 1"
      ],
      "metadata": {
        "id": "W513jFdDD812"
      },
      "execution_count": null,
      "outputs": []
    },
    {
      "cell_type": "code",
      "source": [
        "#ejemplo 2\n",
        "\n",
        "try:\n",
        "  d= 2 + \"ceci\"\n",
        "except TypeError:\n",
        "  print(\"cuidado! la suma deve ser sobre los mismos objetos\")"
      ],
      "metadata": {
        "colab": {
          "base_uri": "https://localhost:8080/"
        },
        "id": "yvyeQFzRFAcK",
        "outputId": "491dd58d-f98e-4a32-e0ef-c053f873425f"
      },
      "execution_count": null,
      "outputs": [
        {
          "output_type": "stream",
          "name": "stdout",
          "text": [
            "cuidado! la suma deve ser sobre los mismos objetos\n"
          ]
        }
      ]
    },
    {
      "cell_type": "code",
      "source": [
        "#vamos a redefinir nuestra definicion de division\n",
        "\n",
        "def division (a,b):\n",
        "  try:\n",
        "    c=a/b\n",
        "    print (\"resultado de la division\",c)\n",
        "  except ZeroDivisionError:\n",
        "    print(\"el denominador no puede ser cero\")\n",
        "  except TypeError:\n",
        "   print(\"no dividas entre un string\")"
      ],
      "metadata": {
        "id": "MQC3ews5Foyx"
      },
      "execution_count": null,
      "outputs": []
    },
    {
      "cell_type": "code",
      "source": [
        "division (5,0)"
      ],
      "metadata": {
        "colab": {
          "base_uri": "https://localhost:8080/"
        },
        "id": "76DwEAdpHEYm",
        "outputId": "636914b7-c101-4dc2-f22b-b5351f493e67"
      },
      "execution_count": null,
      "outputs": [
        {
          "output_type": "stream",
          "name": "stdout",
          "text": [
            "el denominador no puede ser cero\n"
          ]
        }
      ]
    },
    {
      "cell_type": "code",
      "source": [
        "division (2,\"ceci\")"
      ],
      "metadata": {
        "colab": {
          "base_uri": "https://localhost:8080/"
        },
        "id": "t1oYaWy0HH19",
        "outputId": "3986b4a4-394a-471b-abc0-fddc29c8982d"
      },
      "execution_count": null,
      "outputs": [
        {
          "output_type": "stream",
          "name": "stdout",
          "text": [
            "no dividas entre un string\n"
          ]
        }
      ]
    },
    {
      "cell_type": "code",
      "source": [
        "division (2,3)"
      ],
      "metadata": {
        "colab": {
          "base_uri": "https://localhost:8080/"
        },
        "id": "gVIPiQ7lHVg6",
        "outputId": "082502ac-6fdb-4207-84f0-c4f006ebf9a3"
      },
      "execution_count": null,
      "outputs": [
        {
          "output_type": "stream",
          "name": "stdout",
          "text": [
            "resultado de la division 0.6666666666666666\n"
          ]
        }
      ]
    },
    {
      "cell_type": "markdown",
      "source": [
        "#la funcion `assert`"
      ],
      "metadata": {
        "id": "OKjTEq4yH85l"
      }
    },
    {
      "cell_type": "code",
      "source": [
        "assert(1==2)"
      ],
      "metadata": {
        "colab": {
          "base_uri": "https://localhost:8080/",
          "height": 141
        },
        "id": "i-WEarnlIDB1",
        "outputId": "dacadb7b-f82d-4577-f4a8-9fe785e21b12"
      },
      "execution_count": null,
      "outputs": [
        {
          "output_type": "error",
          "ename": "AssertionError",
          "evalue": "",
          "traceback": [
            "\u001b[0;31m---------------------------------------------------------------------------\u001b[0m",
            "\u001b[0;31mAssertionError\u001b[0m                            Traceback (most recent call last)",
            "\u001b[0;32m<ipython-input-12-91d16dafa3fa>\u001b[0m in \u001b[0;36m<cell line: 0>\u001b[0;34m()\u001b[0m\n\u001b[0;32m----> 1\u001b[0;31m \u001b[0;32massert\u001b[0m\u001b[0;34m(\u001b[0m\u001b[0;36m1\u001b[0m\u001b[0;34m==\u001b[0m\u001b[0;36m2\u001b[0m\u001b[0;34m)\u001b[0m\u001b[0;34m\u001b[0m\u001b[0;34m\u001b[0m\u001b[0m\n\u001b[0m",
            "\u001b[0;31mAssertionError\u001b[0m: "
          ]
        }
      ]
    },
    {
      "cell_type": "code",
      "source": [],
      "metadata": {
        "id": "qoOHJMMuI7NC"
      },
      "execution_count": null,
      "outputs": []
    },
    {
      "cell_type": "code",
      "source": [
        "def calcular_media(L):\n",
        "   z= sum(L)/len(L)\n",
        "   return z"
      ],
      "metadata": {
        "id": "vZJcosNMI-iF"
      },
      "execution_count": null,
      "outputs": []
    },
    {
      "cell_type": "code",
      "source": [
        "calcular_media((17,19,25.0,-2))"
      ],
      "metadata": {
        "colab": {
          "base_uri": "https://localhost:8080/"
        },
        "id": "wwClsmyAJ-pJ",
        "outputId": "8a17169d-08f4-469d-be90-9ea6e9738ae3"
      },
      "execution_count": null,
      "outputs": [
        {
          "output_type": "execute_result",
          "data": {
            "text/plain": [
              "14.75"
            ]
          },
          "metadata": {},
          "execution_count": 21
        }
      ]
    },
    {
      "cell_type": "code",
      "source": [
        "assert(calcular_media((17,19,25.0,-2))==14.75)"
      ],
      "metadata": {
        "id": "DntJSSwaKlsM"
      },
      "execution_count": null,
      "outputs": []
    }
  ]
}