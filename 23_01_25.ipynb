{
  "nbformat": 4,
  "nbformat_minor": 0,
  "metadata": {
    "colab": {
      "provenance": []
    },
    "kernelspec": {
      "name": "python3",
      "display_name": "Python 3"
    },
    "language_info": {
      "name": "python"
    }
  },
  "cells": [
    {
      "cell_type": "markdown",
      "source": [],
      "metadata": {
        "id": "bgYfxLPDw8Fx"
      }
    },
    {
      "cell_type": "markdown",
      "source": [
        "# Introducción a Python\n",
        "\n",
        "Python es un lenguaje de programación de alt\n",
        "nivel, interpretado, interactivo y orientado a objetos.\n",
        "Es conocido por su sintaxis clara y legible, lo que lo convierte en un excelente lenguaje para principiantes.\n",
        "Las líneas que comienzan con '#' son comentarios y son ignorados por el intérprete.\n",
        "Se utilizan para documentar el código y hacerlo más fácil de entender.\n",
        "\n",
        "##¿Qué veremos hoy ?\n",
        "\n",
        "\n",
        "1.   Objetos\n",
        "2.   Variables\n",
        "3.   Ejemplo\n",
        "\n",
        "\n",
        "\n",
        "\n",
        "\n",
        "\n"
      ],
      "metadata": {
        "id": "OANhSi0uqPYY"
      }
    },
    {
      "cell_type": "markdown",
      "source": [
        "Nota: **En este procesador de texto, se puede escribir en html y en latex. Por ejemplo, vamos a escribir la ecuación mas linda de todas:**\n",
        "\n",
        "$$e^{iΠ}+1=0$$\n",
        "\n",
        "Ejemplo de matriz:\n",
        "\n",
        "$$\\begin{bmatrix}\n",
        "a & b \\\\\n",
        "c & d\n",
        "\\end{bmatrix}$$\n"
      ],
      "metadata": {
        "id": "NcJ4-FRYuKPH"
      }
    },
    {
      "cell_type": "markdown",
      "source": [
        "##Algunos objetos en python:\n",
        "\n",
        "\n",
        "\n",
        "1.   int y float (enteros y flotantes)\n",
        "2.   str (\"string\")\n",
        "3. conjuntos y listas\n",
        "\n",
        "---\n",
        "\n",
        "**La función `print` y la función `type`**\n",
        "\n",
        "\n",
        "\n",
        "\n",
        "\n",
        "\n"
      ],
      "metadata": {
        "id": "ffWhEyYZ7FJR"
      }
    },
    {
      "cell_type": "code",
      "source": [
        "\"hola mundo\""
      ],
      "metadata": {
        "colab": {
          "base_uri": "https://localhost:8080/",
          "height": 35
        },
        "id": "BAS12Ewg9llg",
        "outputId": "04bb2343-744d-4e9a-c789-f897f95aa838"
      },
      "execution_count": 2,
      "outputs": [
        {
          "output_type": "execute_result",
          "data": {
            "text/plain": [
              "'hola mundo'"
            ],
            "application/vnd.google.colaboratory.intrinsic+json": {
              "type": "string"
            }
          },
          "metadata": {},
          "execution_count": 2
        }
      ]
    },
    {
      "cell_type": "code",
      "source": [
        "print (\"cesar\")\n",
        "print (\"hola a todos\")"
      ],
      "metadata": {
        "colab": {
          "base_uri": "https://localhost:8080/"
        },
        "id": "-uh9o6ia_w0_",
        "outputId": "493ec5f2-83c9-4381-d6ba-e8025f56ead4"
      },
      "execution_count": 3,
      "outputs": [
        {
          "output_type": "stream",
          "name": "stdout",
          "text": [
            "cesar\n",
            "hola a todos\n"
          ]
        }
      ]
    },
    {
      "cell_type": "markdown",
      "source": [
        "##operaciones basicas en int y float\n",
        "\n",
        "*   $+, \\ -$,  suma y resta\n",
        "*    $*, /, **$,  multiplicacion y dividir y potenciacion\n",
        "* % operacion modular\n",
        "* //division al piso\n",
        "---\n",
        "**creacion de variables**\n",
        "\n",
        "nombre =objeto\n",
        "\n",
        "\n"
      ],
      "metadata": {
        "id": "OIK2HBWQA0Ys"
      }
    },
    {
      "cell_type": "code",
      "source": [
        "#vamos a crear dos variables\n",
        "x = 7\n",
        "y = 3"
      ],
      "metadata": {
        "id": "ud5iuW4QF6wt"
      },
      "execution_count": 11,
      "outputs": []
    },
    {
      "cell_type": "code",
      "source": [
        "#operaciones\n",
        "\n",
        "print (f\"la suma entre {x} y {y} es {x+y}\")\n",
        "print (f\"la potenciacion entre {x} y {y} es {x**y}\")\n",
        "print (f\"el residuo entre {x} y {y} es {x%y}\")\n",
        "print (f\"la division al piso entre {x} y {y} es {x//y}\")\n",
        "print (f\"la division entre {x} y {y} es {x/y}\")"
      ],
      "metadata": {
        "colab": {
          "base_uri": "https://localhost:8080/"
        },
        "id": "HviJElsfGbhL",
        "outputId": "6bc82b85-cc36-481a-cb51-918c798e8cc7"
      },
      "execution_count": 15,
      "outputs": [
        {
          "output_type": "stream",
          "name": "stdout",
          "text": [
            "la suma entre 7 y 3 es 10\n",
            "la potenciacion entre 7 y 3 es 343\n",
            "el residuo entre 7 y 3 es 1\n",
            "la division al piso entre 7 y 3 es 2\n",
            "la division entre 7 y 3 es 2.3333333333333335\n"
          ]
        }
      ]
    },
    {
      "cell_type": "code",
      "source": [
        "#La funcion type nos dice el tipo de objeto que estamos usando\n",
        "type (x/y), type(\"cesar\")\n"
      ],
      "metadata": {
        "colab": {
          "base_uri": "https://localhost:8080/"
        },
        "id": "dYrfcOqsI1u5",
        "outputId": "82bcb0f0-0a8d-4de5-fae3-6e2f9c46b492"
      },
      "execution_count": 20,
      "outputs": [
        {
          "output_type": "execute_result",
          "data": {
            "text/plain": [
              "(float, str)"
            ]
          },
          "metadata": {},
          "execution_count": 20
        }
      ]
    }
  ]
}