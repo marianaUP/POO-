{
  "nbformat": 4,
  "nbformat_minor": 0,
  "metadata": {
    "colab": {
      "provenance": []
    },
    "kernelspec": {
      "name": "python3",
      "display_name": "Python 3"
    },
    "language_info": {
      "name": "python"
    }
  },
  "cells": [
    {
      "cell_type": "code",
      "execution_count": null,
      "metadata": {
        "id": "3i7lXXhfbsTI"
      },
      "outputs": [],
      "source": []
    },
    {
      "cell_type": "markdown",
      "source": [
        "#conjuntos y listas\n",
        "\n",
        "- conjuntos finitos:\n",
        "$$\\{o_1, o_2,  \\dots, o_n\\}$$\n",
        "\n",
        "- listas finitas:\n",
        "$$[l_1, l_2,  \\dots, l_n]$$\n",
        ".\n",
        ".\n",
        "\n",
        "\n",
        "En python, existe la función `range(a,b)` donde $a,b\\geq 0$\n"
      ],
      "metadata": {
        "id": "f4MjXqvFcw1m"
      }
    },
    {
      "cell_type": "code",
      "source": [
        "range(10)"
      ],
      "metadata": {
        "colab": {
          "base_uri": "https://localhost:8080/"
        },
        "id": "ogw8qKmXgKHP",
        "outputId": "dc59a46b-6697-482e-f2cb-eaa7955c7a68"
      },
      "execution_count": 1,
      "outputs": [
        {
          "output_type": "execute_result",
          "data": {
            "text/plain": [
              "range(0, 10)"
            ]
          },
          "metadata": {},
          "execution_count": 1
        }
      ]
    },
    {
      "cell_type": "markdown",
      "source": [
        "¿cómo puedo ver lso elementos de este generador de índices?"
      ],
      "metadata": {
        "id": "-3uQWZ43gOs3"
      }
    },
    {
      "cell_type": "code",
      "source": [
        "for i in range(10): print (i)"
      ],
      "metadata": {
        "colab": {
          "base_uri": "https://localhost:8080/"
        },
        "id": "qdvtrZfWgYSa",
        "outputId": "4d355f70-2ef5-4346-b0ad-00eb886cda0f"
      },
      "execution_count": 2,
      "outputs": [
        {
          "output_type": "stream",
          "name": "stdout",
          "text": [
            "0\n",
            "1\n",
            "2\n",
            "3\n",
            "4\n",
            "5\n",
            "6\n",
            "7\n",
            "8\n",
            "9\n"
          ]
        }
      ]
    },
    {
      "cell_type": "code",
      "source": [
        "#vamos a construir dos conjuntos\n",
        "\n",
        "Pares={i for i in range (21) if i%2==0}\n",
        "print (f\"Pares: {Pares} \")\n",
        "\n",
        "Impares={i for i in range (21) if i%2==1}\n",
        "print (f\"Impares: {Impares} \")\n"
      ],
      "metadata": {
        "colab": {
          "base_uri": "https://localhost:8080/"
        },
        "id": "XuBGIRp1hs7W",
        "outputId": "e0e26bb9-41c2-49fd-ec7a-60b809fe2914"
      },
      "execution_count": 5,
      "outputs": [
        {
          "output_type": "stream",
          "name": "stdout",
          "text": [
            "Pares: {0, 2, 4, 6, 8, 10, 12, 14, 16, 18, 20} \n",
            "Impares: {1, 3, 5, 7, 9, 11, 13, 15, 17, 19} \n"
          ]
        }
      ]
    },
    {
      "cell_type": "code",
      "source": [
        "C= {17,7,27,19,77,56,8,12,10,13,20,16}\n",
        "C, type (C)"
      ],
      "metadata": {
        "colab": {
          "base_uri": "https://localhost:8080/"
        },
        "id": "4jMSIx8tjL3h",
        "outputId": "556af3ad-1b74-4811-8a85-b73cb70aeaba"
      },
      "execution_count": 6,
      "outputs": [
        {
          "output_type": "execute_result",
          "data": {
            "text/plain": [
              "({7, 8, 10, 12, 13, 16, 17, 19, 20, 27, 56, 77}, set)"
            ]
          },
          "metadata": {},
          "execution_count": 6
        }
      ]
    },
    {
      "cell_type": "markdown",
      "source": [
        "**LOS OBJETOS EN PYTHON TIENEN TRIBUTOS**"
      ],
      "metadata": {
        "id": "p3OmtIf1k51y"
      }
    },
    {
      "cell_type": "code",
      "source": [
        "Pares.intersection(Impares)"
      ],
      "metadata": {
        "colab": {
          "base_uri": "https://localhost:8080/"
        },
        "id": "QSHYrZ-ClBKt",
        "outputId": "34e57409-1daf-4cc3-ce2f-052e28fab24f"
      },
      "execution_count": 7,
      "outputs": [
        {
          "output_type": "execute_result",
          "data": {
            "text/plain": [
              "set()"
            ]
          },
          "metadata": {},
          "execution_count": 7
        }
      ]
    },
    {
      "cell_type": "code",
      "source": [
        "Pares.union(Impares)"
      ],
      "metadata": {
        "colab": {
          "base_uri": "https://localhost:8080/"
        },
        "id": "Kza_rwV6lICX",
        "outputId": "792e1631-f7a4-4a27-b8db-70ed89959714"
      },
      "execution_count": 8,
      "outputs": [
        {
          "output_type": "execute_result",
          "data": {
            "text/plain": [
              "{0, 1, 2, 3, 4, 5, 6, 7, 8, 9, 10, 11, 12, 13, 14, 15, 16, 17, 18, 19, 20}"
            ]
          },
          "metadata": {},
          "execution_count": 8
        }
      ]
    },
    {
      "cell_type": "code",
      "source": [
        "Impares.difference(Pares)"
      ],
      "metadata": {
        "colab": {
          "base_uri": "https://localhost:8080/"
        },
        "id": "0jjvaUnMlORm",
        "outputId": "2f2da613-3f27-4bfc-cf66-c606b04842f7"
      },
      "execution_count": 9,
      "outputs": [
        {
          "output_type": "execute_result",
          "data": {
            "text/plain": [
              "{1, 3, 5, 7, 9, 11, 13, 15, 17, 19}"
            ]
          },
          "metadata": {},
          "execution_count": 9
        }
      ]
    },
    {
      "cell_type": "code",
      "source": [
        "Impares.difference(C) #quitando los elementos de C a los Impares"
      ],
      "metadata": {
        "colab": {
          "base_uri": "https://localhost:8080/"
        },
        "id": "VWICysaIl4ED",
        "outputId": "c5085b8a-c5cb-48f3-81fd-28d14cfd70d3"
      },
      "execution_count": 10,
      "outputs": [
        {
          "output_type": "execute_result",
          "data": {
            "text/plain": [
              "{1, 3, 5, 9, 11, 15}"
            ]
          },
          "metadata": {},
          "execution_count": 10
        }
      ]
    },
    {
      "cell_type": "markdown",
      "source": [
        "**LISTA**"
      ],
      "metadata": {
        "id": "IOPAZe3el-9j"
      }
    },
    {
      "cell_type": "code",
      "source": [
        "Lista_pares= list(Pares)\n",
        "Lista_pares"
      ],
      "metadata": {
        "colab": {
          "base_uri": "https://localhost:8080/"
        },
        "id": "hFnxVrNgmBYA",
        "outputId": "532b4d6e-1f28-4ef0-e97e-27e809b6ff17"
      },
      "execution_count": 16,
      "outputs": [
        {
          "output_type": "execute_result",
          "data": {
            "text/plain": [
              "[0, 2, 4, 6, 8, 10, 12, 14, 16, 18, 20]"
            ]
          },
          "metadata": {},
          "execution_count": 16
        }
      ]
    }
  ]
}