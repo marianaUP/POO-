{
  "nbformat": 4,
  "nbformat_minor": 0,
  "metadata": {
    "colab": {
      "provenance": []
    },
    "kernelspec": {
      "name": "python3",
      "display_name": "Python 3"
    },
    "language_info": {
      "name": "python"
    }
  },
  "cells": [
    {
      "cell_type": "code",
      "execution_count": null,
      "metadata": {
        "id": "KsyjDx6rlnNJ"
      },
      "outputs": [],
      "source": []
    },
    {
      "cell_type": "markdown",
      "source": [
        "#FUNCIONES EN PYTHON\n",
        "\n",
        "1. Input\n",
        "2. lambda\n",
        "3. map\n",
        "\n"
      ],
      "metadata": {
        "id": "GDtjulLGluFc"
      }
    },
    {
      "cell_type": "markdown",
      "source": [
        "#EJEMPLOS DE INPUT"
      ],
      "metadata": {
        "id": "pL8BwYMYmk7U"
      }
    },
    {
      "cell_type": "code",
      "source": [
        "ceci = input (\"de quien es el cumpleaños ? \")"
      ],
      "metadata": {
        "colab": {
          "base_uri": "https://localhost:8080/"
        },
        "id": "O7EqBRiqmvLr",
        "outputId": "e49681e6-eb49-4ab0-cbb4-3c85aa0f5a66"
      },
      "execution_count": 13,
      "outputs": [
        {
          "name": "stdout",
          "output_type": "stream",
          "text": [
            "de quien es el cumpleaños ? ceci\n"
          ]
        }
      ]
    },
    {
      "cell_type": "code",
      "source": [
        "edad = int (input (\"cuantos años cumples ? \")) ##transformar a un entero"
      ],
      "metadata": {
        "colab": {
          "base_uri": "https://localhost:8080/"
        },
        "id": "GCrHEyMfm3aL",
        "outputId": "27313286-4b0e-4bd1-924f-9b45976f65cc"
      },
      "execution_count": 5,
      "outputs": [
        {
          "name": "stdout",
          "output_type": "stream",
          "text": [
            "cuantos años cumples ? 20\n"
          ]
        }
      ]
    },
    {
      "cell_type": "code",
      "source": [
        "print(f\"hoy es cumple de {ceci} y cumple {edad}\")"
      ],
      "metadata": {
        "colab": {
          "base_uri": "https://localhost:8080/"
        },
        "id": "35aMsa44oXSF",
        "outputId": "e9094440-bc2f-4ca7-f16d-cc27937bb874"
      },
      "execution_count": 14,
      "outputs": [
        {
          "output_type": "stream",
          "name": "stdout",
          "text": [
            "hoy es cumple de ceci y cumple 20\n"
          ]
        }
      ]
    },
    {
      "cell_type": "markdown",
      "source": [
        "#la funcion lambda\n",
        "\n",
        "es una funcion anonima (no tiene nombre) y sirve para crear funciones ad hoc (dentro de un solo codigo)"
      ],
      "metadata": {
        "id": "g9fDaIGopEa_"
      }
    },
    {
      "cell_type": "code",
      "source": [
        "def cuadrado(x):\n",
        "  z= x**2\n",
        "  return z"
      ],
      "metadata": {
        "id": "jnN8RfVSpJHI"
      },
      "execution_count": 17,
      "outputs": []
    },
    {
      "cell_type": "code",
      "source": [
        "cuadrado(8)"
      ],
      "metadata": {
        "colab": {
          "base_uri": "https://localhost:8080/"
        },
        "id": "mqdWjkOApad1",
        "outputId": "3c927b3a-b871-4f35-c0be-66eb7952ddb8"
      },
      "execution_count": 19,
      "outputs": [
        {
          "output_type": "execute_result",
          "data": {
            "text/plain": [
              "64"
            ]
          },
          "metadata": {},
          "execution_count": 19
        }
      ]
    },
    {
      "cell_type": "code",
      "source": [
        "cuad = lambda x:x**2\n",
        "cuad(2)"
      ],
      "metadata": {
        "colab": {
          "base_uri": "https://localhost:8080/"
        },
        "id": "yPBBpzYhpkRS",
        "outputId": "f4de117f-54a3-4cc2-eaaf-a6ef16497a20"
      },
      "execution_count": 21,
      "outputs": [
        {
          "output_type": "execute_result",
          "data": {
            "text/plain": [
              "4"
            ]
          },
          "metadata": {},
          "execution_count": 21
        }
      ]
    },
    {
      "cell_type": "code",
      "source": [
        "operacion = lambda x,y:x**2 + x*y +2\n",
        "operacion(2,3)"
      ],
      "metadata": {
        "colab": {
          "base_uri": "https://localhost:8080/"
        },
        "id": "V-Q4kIiarAWn",
        "outputId": "342fa09c-38ab-460f-8c27-dc3bdae4196b"
      },
      "execution_count": 22,
      "outputs": [
        {
          "output_type": "execute_result",
          "data": {
            "text/plain": [
              "12"
            ]
          },
          "metadata": {},
          "execution_count": 22
        }
      ]
    },
    {
      "cell_type": "code",
      "source": [
        "import math\n",
        "from math import pi,e"
      ],
      "metadata": {
        "id": "R_qUDl71rJ8C"
      },
      "execution_count": 23,
      "outputs": []
    },
    {
      "cell_type": "code",
      "source": [
        "pi, e"
      ],
      "metadata": {
        "colab": {
          "base_uri": "https://localhost:8080/"
        },
        "id": "71h9hL6RrpOX",
        "outputId": "4b5422eb-a504-46cd-e6d6-4105b39a04e9"
      },
      "execution_count": 24,
      "outputs": [
        {
          "output_type": "execute_result",
          "data": {
            "text/plain": [
              "(3.141592653589793, 2.718281828459045)"
            ]
          },
          "metadata": {},
          "execution_count": 24
        }
      ]
    },
    {
      "cell_type": "code",
      "source": [
        "area_circulo = lambda r: pi*r**2\n",
        "area_circulo(1)"
      ],
      "metadata": {
        "colab": {
          "base_uri": "https://localhost:8080/"
        },
        "id": "c3xyMXHGrrGz",
        "outputId": "8f730ee9-dfaa-4175-f081-9472135c8489"
      },
      "execution_count": 26,
      "outputs": [
        {
          "output_type": "execute_result",
          "data": {
            "text/plain": [
              "3.141592653589793"
            ]
          },
          "metadata": {},
          "execution_count": 26
        }
      ]
    },
    {
      "cell_type": "markdown",
      "source": [
        "#LA FUNCION MAP\n",
        "\n",
        "Significa mapear"
      ],
      "metadata": {
        "id": "V02dA4a5r1CD"
      }
    },
    {
      "cell_type": "code",
      "source": [
        "residuo = list(map(lambda x : x%2 , [i for i in range (1,101)]))"
      ],
      "metadata": {
        "id": "NP-qmZMztCFw"
      },
      "execution_count": 36,
      "outputs": []
    },
    {
      "cell_type": "code",
      "source": [
        "def residuo_(x):\n",
        "  for x in range(1,101):\n",
        "    return x%2"
      ],
      "metadata": {
        "id": "xPUf5QVVvZ1z"
      },
      "execution_count": 37,
      "outputs": []
    },
    {
      "cell_type": "code",
      "source": [
        "residuo_(3)"
      ],
      "metadata": {
        "colab": {
          "base_uri": "https://localhost:8080/"
        },
        "id": "5h6dX5pWwTyU",
        "outputId": "7ccc396a-5319-4d9c-cfd1-38bf8ea49710"
      },
      "execution_count": 38,
      "outputs": [
        {
          "output_type": "execute_result",
          "data": {
            "text/plain": [
              "1"
            ]
          },
          "metadata": {},
          "execution_count": 38
        }
      ]
    },
    {
      "cell_type": "code",
      "source": [
        "exponenciales = set(map(lambda x : e**x , [i for i in range (1,10)]))\n",
        "exponenciales"
      ],
      "metadata": {
        "colab": {
          "base_uri": "https://localhost:8080/"
        },
        "id": "E6j3o2IUwWfT",
        "outputId": "0fc9dfb8-4954-4339-cee9-76d8b6e4ec19"
      },
      "execution_count": 40,
      "outputs": [
        {
          "output_type": "execute_result",
          "data": {
            "text/plain": [
              "{2.718281828459045,\n",
              " 7.3890560989306495,\n",
              " 20.085536923187664,\n",
              " 54.59815003314423,\n",
              " 148.41315910257657,\n",
              " 403.428793492735,\n",
              " 1096.6331584284583,\n",
              " 2980.957987041727,\n",
              " 8103.08392757538}"
            ]
          },
          "metadata": {},
          "execution_count": 40
        }
      ]
    }
  ]
}